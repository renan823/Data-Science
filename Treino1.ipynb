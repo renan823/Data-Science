{
  "nbformat": 4,
  "nbformat_minor": 0,
  "metadata": {
    "colab": {
      "provenance": [],
      "collapsed_sections": [],
      "toc_visible": true
    },
    "kernelspec": {
      "name": "python3",
      "display_name": "Python 3"
    },
    "language_info": {
      "name": "python"
    }
  },
  "cells": [
    {
      "cell_type": "code",
      "execution_count": 368,
      "metadata": {
        "id": "tkKoKnMCdPHJ"
      },
      "outputs": [],
      "source": [
        "import csv\n",
        "import numpy as np\n",
        "import matplotlib.pyplot as plt"
      ]
    },
    {
      "cell_type": "code",
      "source": [
        "ages = {}\n",
        "grades = {}\n",
        "boys = {}\n",
        "girls = {}\n",
        "\n",
        "with open('./sample_data/Maths.csv', 'r') as file:\n",
        "  reader = csv.reader(file)\n",
        "  for row in reader:\n",
        "    age = row[2]\n",
        "    if age != 'age':\n",
        "      gradeMedia = (int(row[30]) + int(row[31]) + int(row[32]))/3\n",
        "      \n",
        "      #number of people by age\n",
        "      try:\n",
        "        ages[age] += 1\n",
        "      except:\n",
        "        ages[age] = 1\n",
        "      \n",
        "      #grades by age\n",
        "      try:\n",
        "          grades[age].append(gradeMedia)\n",
        "      except:\n",
        "        grades[age] = []\n",
        "        grades[age].append(gradeMedia)\n",
        "      \n",
        "      #gender by age\n",
        "      if row[1] == 'F':\n",
        "        try:\n",
        "          girls[age] += 1\n",
        "        except:\n",
        "          girls[age] = 1\n",
        "      else:\n",
        "        try:\n",
        "          boys[age] += 1\n",
        "        except:\n",
        "          boys[age] = 1"
      ],
      "metadata": {
        "id": "eY8aBQzWgrlg"
      },
      "execution_count": 369,
      "outputs": []
    },
    {
      "cell_type": "code",
      "source": [
        "allKeys = []\n",
        "allAges = []\n",
        "\n",
        "for age in ages.keys():\n",
        "  allKeys.append(age)\n",
        "  allAges.append(ages[age])\n",
        "\n",
        "plt.subplot()\n",
        "plt.bar(allKeys, allAges, width=0.5)\n",
        "plt.title(\"Number of people by age\")\n",
        "plt.xlabel(\"Ages\")\n",
        "plt.ylabel(\"People count\")\n",
        "plt.show()"
      ],
      "metadata": {
        "colab": {
          "base_uri": "https://localhost:8080/",
          "height": 295
        },
        "id": "HZWVtnjwmIzj",
        "outputId": "065cdeba-73e7-4eb5-c344-ca0696217a96"
      },
      "execution_count": 370,
      "outputs": [
        {
          "output_type": "display_data",
          "data": {
            "text/plain": [
              "<Figure size 432x288 with 1 Axes>"
            ],
            "image/png": "[encoded data removed]"
          },
          "metadata": {
            "needs_background": "light"
          }
        }
      ]
    },
    {
      "cell_type": "code",
      "source": [
        "allGrades = []\n",
        "\n",
        "for grade in grades:\n",
        "  ageGradeList = grades[grade]\n",
        "  ageGradeList.sort()\n",
        "  allGrades.append(ageGradeList[-1])\n",
        "\n",
        "plt.subplot()\n",
        "plt.scatter(allKeys, allGrades, c=\"green\", s=100)\n",
        "plt.title(\"Max grade (media) by age\")\n",
        "plt.xlabel(\"Ages\")\n",
        "plt.ylabel(\"Grades\")\n",
        "plt.grid()\n",
        "plt.show()"
      ],
      "metadata": {
        "colab": {
          "base_uri": "https://localhost:8080/",
          "height": 295
        },
        "id": "YlV4sfm7rokU",
        "outputId": "3f7927cd-93c0-4d36-afa9-a40a15eb3613"
      },
      "execution_count": 371,
      "outputs": [
        {
          "output_type": "display_data",
          "data": {
            "text/plain": [
              "<Figure size 432x288 with 1 Axes>"
            ],
            "image/png": "[encoded data removed]"
          },
          "metadata": {
            "needs_background": "light"
          }
        }
      ]
    },
    {
      "cell_type": "code",
      "source": [
        "#equalize boys/girls key count\n",
        "if len(boys) > len(girls):\n",
        "  for ageKey in boys:\n",
        "    try:\n",
        "      newAge = girls[ageKey]\n",
        "    except:\n",
        "      girls[ageKey] = 0\n",
        "\n",
        "if len(boys) < len(girls):\n",
        "  for ageKey in girls:\n",
        "    try:\n",
        "      newAge = boys[ageKey]\n",
        "    except:\n",
        "      boys[ageKey] = 0\n",
        "\n",
        "#generate new array with \"ordered\" ages\n",
        "girlCount = []\n",
        "boyCount = []\n",
        "for key in allKeys:\n",
        "  girlCount.append(girls[key])\n",
        "  boyCount.append(boys[key])\n",
        "\n",
        "#multiple bars config\n",
        "x = np.arange(len(girls))\n",
        "width = 0.4\n",
        "\n",
        "plt.subplot()\n",
        "bar1 = plt.bar(x, girlCount, width=width, label='Girls', color='pink')\n",
        "bar2 = plt.bar(x + width, boyCount, width=width, label='Boys', color='lightblue')\n",
        "plt.legend((bar1, bar2), (\"Girls\", \"Boys\"))\n",
        "plt.xticks(x + width/2, allKeys)\n",
        "plt.title(\"Number of people by age and gender\")\n",
        "plt.xlabel(\"Ages\")\n",
        "plt.ylabel(\"People count\")\n",
        "plt.show()\n"
      ],
      "metadata": {
        "colab": {
          "base_uri": "https://localhost:8080/",
          "height": 295
        },
        "id": "AE1LGyR-zcIV",
        "outputId": "42a34829-f342-42bf-b0f3-3ae606bb3560"
      },
      "execution_count": 372,
      "outputs": [
        {
          "output_type": "display_data",
          "data": {
            "text/plain": [
              "<Figure size 432x288 with 1 Axes>"
            ],
            "image/png": "[encoded data removed]"
          },
          "metadata": {
            "needs_background": "light"
          }
        }
      ]
    }
  ]
}